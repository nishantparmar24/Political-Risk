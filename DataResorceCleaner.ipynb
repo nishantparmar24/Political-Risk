{
  "nbformat": 4,
  "nbformat_minor": 0,
  "metadata": {
    "colab": {
      "name": "DataResorceCleaner.ipynb",
      "provenance": [],
      "collapsed_sections": [],
      "include_colab_link": true
    },
    "kernelspec": {
      "name": "python3",
      "display_name": "Python 3"
    }
  },
  "cells": [
    {
      "cell_type": "markdown",
      "metadata": {
        "id": "view-in-github",
        "colab_type": "text"
      },
      "source": [
        "<a href=\"https://colab.research.google.com/github/nishantparmar24/Political-Risk/blob/master/DataResorceCleaner.ipynb\" target=\"_parent\"><img src=\"https://colab.research.google.com/assets/colab-badge.svg\" alt=\"Open In Colab\"/></a>"
      ]
    },
    {
      "cell_type": "code",
      "metadata": {
        "id": "4pEAGql4tBmL",
        "colab_type": "code",
        "colab": {}
      },
      "source": [
        "from google.colab import drive\n",
        "import os\n",
        "import pandas as pd\n",
        "import re"
      ],
      "execution_count": 0,
      "outputs": []
    },
    {
      "cell_type": "code",
      "metadata": {
        "id": "QzXftP7ctHpx",
        "colab_type": "code",
        "outputId": "c335b9f0-3947-4429-dbfa-5ca3e8e792c3",
        "colab": {
          "base_uri": "https://localhost:8080/",
          "height": 34
        }
      },
      "source": [
        "drive.mount(\"/gdrive\")"
      ],
      "execution_count": 0,
      "outputs": [
        {
          "output_type": "stream",
          "text": [
            "Drive already mounted at /gdrive; to attempt to forcibly remount, call drive.mount(\"/gdrive\", force_remount=True).\n"
          ],
          "name": "stdout"
        }
      ]
    },
    {
      "cell_type": "code",
      "metadata": {
        "id": "JMz3KlBn69Gp",
        "colab_type": "code",
        "colab": {}
      },
      "source": [
        "input_directory = \"/gdrive/My Drive/Political Risk Project/Test Data\"\n",
        "file_prefix = \"Data-Collection-\"\n",
        "date_prefix = \"2019-11-28\"\n",
        "version_pfx = \"-v1\"\n",
        "file_ext = \".csv\"\n"
      ],
      "execution_count": 0,
      "outputs": []
    },
    {
      "cell_type": "code",
      "metadata": {
        "id": "cFegpzGX7mz4",
        "colab_type": "code",
        "colab": {}
      },
      "source": [
        "file_name = \"{}{}{}{}\".format(file_prefix, date_prefix, version_pfx, file_ext)\n",
        "file_path = os.path.join(input_directory, \"it-it\", file_name)\n",
        "input_file = pd.read_csv(file_path, encoding=\"utf-8\")\n",
        "# os.listdir(os.path.join(input_directory))"
      ],
      "execution_count": 0,
      "outputs": []
    },
    {
      "cell_type": "code",
      "metadata": {
        "id": "sYbqWL567_qf",
        "colab_type": "code",
        "outputId": "af20eda1-e0b9-4839-897f-058495d5bde9",
        "colab": {
          "base_uri": "https://localhost:8080/",
          "height": 419
        }
      },
      "source": [
        "input_file"
      ],
      "execution_count": 0,
      "outputs": [
        {
          "output_type": "execute_result",
          "data": {
            "text/html": [
              "<div>\n",
              "<style scoped>\n",
              "    .dataframe tbody tr th:only-of-type {\n",
              "        vertical-align: middle;\n",
              "    }\n",
              "\n",
              "    .dataframe tbody tr th {\n",
              "        vertical-align: top;\n",
              "    }\n",
              "\n",
              "    .dataframe thead th {\n",
              "        text-align: right;\n",
              "    }\n",
              "</style>\n",
              "<table border=\"1\" class=\"dataframe\">\n",
              "  <thead>\n",
              "    <tr style=\"text-align: right;\">\n",
              "      <th></th>\n",
              "      <th>data</th>\n",
              "      <th>rating</th>\n",
              "    </tr>\n",
              "  </thead>\n",
              "  <tbody>\n",
              "    <tr>\n",
              "      <th>0</th>\n",
              "      <td>https://www.cityam.com/legitimacy-crisis-bank-...</td>\n",
              "      <td>NaN</td>\n",
              "    </tr>\n",
              "    <tr>\n",
              "      <th>1</th>\n",
              "      <td>https://www.cnbc.com/2019/07/15/britain-faces-...</td>\n",
              "      <td>NaN</td>\n",
              "    </tr>\n",
              "    <tr>\n",
              "      <th>2</th>\n",
              "      <td>https://www.pharmaceutical-journal.com/news-an...</td>\n",
              "      <td>NaN</td>\n",
              "    </tr>\n",
              "    <tr>\n",
              "      <th>3</th>\n",
              "      <td>https://www.ft.com/content/9fe37816-ffa4-11e8-...</td>\n",
              "      <td>NaN</td>\n",
              "    </tr>\n",
              "    <tr>\n",
              "      <th>4</th>\n",
              "      <td>https://www.theguardian.com/business/2019/jul/...</td>\n",
              "      <td>NaN</td>\n",
              "    </tr>\n",
              "    <tr>\n",
              "      <th>...</th>\n",
              "      <td>...</td>\n",
              "      <td>...</td>\n",
              "    </tr>\n",
              "    <tr>\n",
              "      <th>755</th>\n",
              "      <td>http://www.ansa.it/sito/notizie/cronaca/2019/1...</td>\n",
              "      <td>NaN</td>\n",
              "    </tr>\n",
              "    <tr>\n",
              "      <th>756</th>\n",
              "      <td>http://www.ansa.it/sito/notizie/topnews/2019/1...</td>\n",
              "      <td>NaN</td>\n",
              "    </tr>\n",
              "    <tr>\n",
              "      <th>757</th>\n",
              "      <td>http://www.ansa.it/sito/notizie/politica/2019/...</td>\n",
              "      <td>NaN</td>\n",
              "    </tr>\n",
              "    <tr>\n",
              "      <th>758</th>\n",
              "      <td>http://www.ansa.it/umbria/notizie/2019/11/21/v...</td>\n",
              "      <td>NaN</td>\n",
              "    </tr>\n",
              "    <tr>\n",
              "      <th>759</th>\n",
              "      <td>http://www.ansa.it/umbria/notizie/2019/11/25/l...</td>\n",
              "      <td>NaN</td>\n",
              "    </tr>\n",
              "  </tbody>\n",
              "</table>\n",
              "<p>759 rows × 2 columns</p>\n",
              "</div>"
            ],
            "text/plain": [
              "                                                  data  rating\n",
              "0    https://www.cityam.com/legitimacy-crisis-bank-...     NaN\n",
              "1    https://www.cnbc.com/2019/07/15/britain-faces-...     NaN\n",
              "2    https://www.pharmaceutical-journal.com/news-an...     NaN\n",
              "3    https://www.ft.com/content/9fe37816-ffa4-11e8-...     NaN\n",
              "4    https://www.theguardian.com/business/2019/jul/...     NaN\n",
              "..                                                 ...     ...\n",
              "755  http://www.ansa.it/sito/notizie/cronaca/2019/1...     NaN\n",
              "756  http://www.ansa.it/sito/notizie/topnews/2019/1...     NaN\n",
              "757  http://www.ansa.it/sito/notizie/politica/2019/...     NaN\n",
              "758  http://www.ansa.it/umbria/notizie/2019/11/21/v...     NaN\n",
              "759  http://www.ansa.it/umbria/notizie/2019/11/25/l...     NaN\n",
              "\n",
              "[759 rows x 2 columns]"
            ]
          },
          "metadata": {
            "tags": []
          },
          "execution_count": 123
        }
      ]
    },
    {
      "cell_type": "code",
      "metadata": {
        "id": "u1uCGwdaT7Dy",
        "colab_type": "code",
        "colab": {}
      },
      "source": [
        "exclusion_keywords = [\"([bB]ritain)\", \"(uk)\", \"([bB]rexit)\", \"(\\.|-uk)\",\n",
        "                      \"([uU]nited [kK]ingdom)\", \"([usa|USA])\", \n",
        "                      \"([uU]nited [sS]tates)\", \n",
        "                      \"([uU]nited [sS]tates of [aA]merica)\", \"([aA]merica)\", \n",
        "                      \"([jJ]ohnson)\", \"([tT]rump)\", \"([bB]oris)\", \"([dD]onald)\",\n",
        "                      \"(u-k)\", \"(u-s)\", \"(u-s-a)\"]"
      ],
      "execution_count": 0,
      "outputs": []
    },
    {
      "cell_type": "code",
      "metadata": {
        "id": "mUogpfzPfIWa",
        "colab_type": "code",
        "colab": {}
      },
      "source": [
        "inclusion_keywords = [r\".*(\\.it).*\", r\".*(ital[y|i.*]).*\"]"
      ],
      "execution_count": 0,
      "outputs": []
    },
    {
      "cell_type": "code",
      "metadata": {
        "id": "xV75bhzsRgZe",
        "colab_type": "code",
        "colab": {}
      },
      "source": [
        "\"\"\"\n",
        "exclusion_keywords = [\"[bB]ritain\", \"uk\", \"[bB]rexit\", \"\\.|-uk\",\n",
        "                      \"[uU]nited [kK]ingdom\", \"[usa|USA]\", \n",
        "                      \"[uU]nited [sS]tates\", \n",
        "                      \"[uU]nited [sS]tates of [aA]merica\", \"[aA]merica\", \n",
        "                      \"[tT]rump\", \"[bB]oris\", \"u-k\", \"u-s\", \"u-s-a\"]\n",
        "\"\"\"\n"
      ],
      "execution_count": 0,
      "outputs": []
    },
    {
      "cell_type": "code",
      "metadata": {
        "id": "TLt68TcIuhyM",
        "colab_type": "code",
        "outputId": "f56cc1d3-69e7-4a39-8ed6-632e262f0dad",
        "colab": {
          "base_uri": "https://localhost:8080/",
          "height": 34
        }
      },
      "source": [
        "print(\"|\".join(inclusion_keywords))"
      ],
      "execution_count": 0,
      "outputs": [
        {
          "output_type": "stream",
          "text": [
            ".*(\\.it).*|.*(ital[y|i.*]).*\n"
          ],
          "name": "stdout"
        }
      ]
    },
    {
      "cell_type": "code",
      "metadata": {
        "id": "RW2RdmFC3iIm",
        "colab_type": "code",
        "colab": {}
      },
      "source": [
        "str_prefix_cleanup = lambda s: re.subn(\"^=\\s*\\W+\", \"\", s)[0]"
      ],
      "execution_count": 0,
      "outputs": []
    },
    {
      "cell_type": "code",
      "metadata": {
        "id": "e5vOUast0CKP",
        "colab_type": "code",
        "colab": {}
      },
      "source": [
        "output_file_name = \"Italy-Collection-2019-11-28-v3.csv\"\n",
        "output_file_path = os.path.join(input_directory, \"it-it\", \"Italy-collection\", \n",
        "                                output_file_name)"
      ],
      "execution_count": 0,
      "outputs": []
    },
    {
      "cell_type": "code",
      "metadata": {
        "id": "p2AIybDZ4_gW",
        "colab_type": "code",
        "outputId": "26572c67-363c-4622-b19a-407e9dc9c9d7",
        "colab": {
          "base_uri": "https://localhost:8080/",
          "height": 51
        }
      },
      "source": [
        "input_file.dropna(subset=[\"data\"], inplace=True)\n",
        "prefix_eq_df = input_file[input_file.data.str.contains(\"^=\")]\n",
        "if prefix_eq_df.shape[0] > 0:\n",
        "    prefix_eq_df = input_file.data.apply(str_prefix_cleanup)\n",
        "# str_prefix_cleanup(prefix_with_eq)\n",
        "prefix_with_eq"
      ],
      "execution_count": 0,
      "outputs": [
        {
          "output_type": "execute_result",
          "data": {
            "text/plain": [
              "528    coalition between the Carrodagnana wing of Cen...\n",
              "Name: data, dtype: object"
            ]
          },
          "metadata": {
            "tags": []
          },
          "execution_count": 122
        }
      ]
    },
    {
      "cell_type": "code",
      "metadata": {
        "id": "yuYj4nHsuglM",
        "colab_type": "code",
        "outputId": "18b0280d-3be4-4ee7-c9f1-e8ad05d48f04",
        "colab": {
          "base_uri": "https://localhost:8080/",
          "height": 453
        }
      },
      "source": [
        "targeted_df = input_file[input_file.data.str.contains(\n",
        "    \"|\".join(inclusion_keywords))]\n",
        "\n",
        "targeted_df"
      ],
      "execution_count": 0,
      "outputs": [
        {
          "output_type": "stream",
          "text": [
            "/usr/local/lib/python3.6/dist-packages/pandas/core/strings.py:1843: UserWarning: This pattern has match groups. To actually get the groups, use str.extract.\n",
            "  return func(self, *args, **kwargs)\n"
          ],
          "name": "stderr"
        },
        {
          "output_type": "execute_result",
          "data": {
            "text/html": [
              "<div>\n",
              "<style scoped>\n",
              "    .dataframe tbody tr th:only-of-type {\n",
              "        vertical-align: middle;\n",
              "    }\n",
              "\n",
              "    .dataframe tbody tr th {\n",
              "        vertical-align: top;\n",
              "    }\n",
              "\n",
              "    .dataframe thead th {\n",
              "        text-align: right;\n",
              "    }\n",
              "</style>\n",
              "<table border=\"1\" class=\"dataframe\">\n",
              "  <thead>\n",
              "    <tr style=\"text-align: right;\">\n",
              "      <th></th>\n",
              "      <th>data</th>\n",
              "      <th>rating</th>\n",
              "    </tr>\n",
              "  </thead>\n",
              "  <tbody>\n",
              "    <tr>\n",
              "      <th>47</th>\n",
              "      <td>https://feder.bio/cambiamenti-climatici-al-cen...</td>\n",
              "      <td>NaN</td>\n",
              "    </tr>\n",
              "    <tr>\n",
              "      <th>48</th>\n",
              "      <td>https://www.internazionale.it/notizie/2019/08/...</td>\n",
              "      <td>NaN</td>\n",
              "    </tr>\n",
              "    <tr>\n",
              "      <th>49</th>\n",
              "      <td>https://www.ilfoglio.it/economia/2019/04/24/ne...</td>\n",
              "      <td>NaN</td>\n",
              "    </tr>\n",
              "    <tr>\n",
              "      <th>50</th>\n",
              "      <td>https://www.internazionale.it/opinione/gerhard...</td>\n",
              "      <td>NaN</td>\n",
              "    </tr>\n",
              "    <tr>\n",
              "      <th>51</th>\n",
              "      <td>https://www.ilfattoquotidiano.it/2019/08/18/de...</td>\n",
              "      <td>NaN</td>\n",
              "    </tr>\n",
              "    <tr>\n",
              "      <th>...</th>\n",
              "      <td>...</td>\n",
              "      <td>...</td>\n",
              "    </tr>\n",
              "    <tr>\n",
              "      <th>755</th>\n",
              "      <td>http://www.ansa.it/sito/notizie/cronaca/2019/1...</td>\n",
              "      <td>NaN</td>\n",
              "    </tr>\n",
              "    <tr>\n",
              "      <th>756</th>\n",
              "      <td>http://www.ansa.it/sito/notizie/topnews/2019/1...</td>\n",
              "      <td>NaN</td>\n",
              "    </tr>\n",
              "    <tr>\n",
              "      <th>757</th>\n",
              "      <td>http://www.ansa.it/sito/notizie/politica/2019/...</td>\n",
              "      <td>NaN</td>\n",
              "    </tr>\n",
              "    <tr>\n",
              "      <th>758</th>\n",
              "      <td>http://www.ansa.it/umbria/notizie/2019/11/21/v...</td>\n",
              "      <td>NaN</td>\n",
              "    </tr>\n",
              "    <tr>\n",
              "      <th>759</th>\n",
              "      <td>http://www.ansa.it/umbria/notizie/2019/11/25/l...</td>\n",
              "      <td>NaN</td>\n",
              "    </tr>\n",
              "  </tbody>\n",
              "</table>\n",
              "<p>169 rows × 2 columns</p>\n",
              "</div>"
            ],
            "text/plain": [
              "                                                  data  rating\n",
              "47   https://feder.bio/cambiamenti-climatici-al-cen...     NaN\n",
              "48   https://www.internazionale.it/notizie/2019/08/...     NaN\n",
              "49   https://www.ilfoglio.it/economia/2019/04/24/ne...     NaN\n",
              "50   https://www.internazionale.it/opinione/gerhard...     NaN\n",
              "51   https://www.ilfattoquotidiano.it/2019/08/18/de...     NaN\n",
              "..                                                 ...     ...\n",
              "755  http://www.ansa.it/sito/notizie/cronaca/2019/1...     NaN\n",
              "756  http://www.ansa.it/sito/notizie/topnews/2019/1...     NaN\n",
              "757  http://www.ansa.it/sito/notizie/politica/2019/...     NaN\n",
              "758  http://www.ansa.it/umbria/notizie/2019/11/21/v...     NaN\n",
              "759  http://www.ansa.it/umbria/notizie/2019/11/25/l...     NaN\n",
              "\n",
              "[169 rows x 2 columns]"
            ]
          },
          "metadata": {
            "tags": []
          },
          "execution_count": 124
        }
      ]
    },
    {
      "cell_type": "code",
      "metadata": {
        "id": "KFXaN-Vw1RCw",
        "colab_type": "code",
        "colab": {}
      },
      "source": [
        "if targeted_df.shape[0] < input_file.shape[0] and targeted_df.shape[0] > 0:\n",
        "    targeted_df.to_csv(output_file_path, index=False)\n",
        "else:\n",
        "    print(\"Target DataFrame seems incorrect. Please check DataFrames again.\")"
      ],
      "execution_count": 0,
      "outputs": []
    },
    {
      "cell_type": "code",
      "metadata": {
        "id": "30iz3izBDd5Y",
        "colab_type": "code",
        "outputId": "25a607d8-7314-4cf1-81e3-c0667e0785f7",
        "colab": {
          "base_uri": "https://localhost:8080/",
          "height": 419
        }
      },
      "source": [
        "file_name_2 = \"{}{}{}{}\".format(file_prefix, date_prefix, version_pfx, file_ext)\n",
        "file_path_2 = os.path.join(input_directory, \"en-it\", file_name_2)\n",
        "input_df_2 = pd.read_csv(file_path_2, encoding=\"utf-8\")\n",
        "input_df_2[\"rating\"] = \"\"\n",
        "input_df_2.dropna(subset=[\"data\"], inplace=True)\n",
        "input_df_2"
      ],
      "execution_count": 0,
      "outputs": [
        {
          "output_type": "execute_result",
          "data": {
            "text/html": [
              "<div>\n",
              "<style scoped>\n",
              "    .dataframe tbody tr th:only-of-type {\n",
              "        vertical-align: middle;\n",
              "    }\n",
              "\n",
              "    .dataframe tbody tr th {\n",
              "        vertical-align: top;\n",
              "    }\n",
              "\n",
              "    .dataframe thead th {\n",
              "        text-align: right;\n",
              "    }\n",
              "</style>\n",
              "<table border=\"1\" class=\"dataframe\">\n",
              "  <thead>\n",
              "    <tr style=\"text-align: right;\">\n",
              "      <th></th>\n",
              "      <th>data</th>\n",
              "      <th>rating</th>\n",
              "    </tr>\n",
              "  </thead>\n",
              "  <tbody>\n",
              "    <tr>\n",
              "      <th>0</th>\n",
              "      <td>How will an early election stop us crashing ou...</td>\n",
              "      <td></td>\n",
              "    </tr>\n",
              "    <tr>\n",
              "      <th>1</th>\n",
              "      <td>People voted just a year and a half ago, there...</td>\n",
              "      <td></td>\n",
              "    </tr>\n",
              "    <tr>\n",
              "      <th>2</th>\n",
              "      <td>Elezioni anticipate I saw this on the BBC and ...</td>\n",
              "      <td></td>\n",
              "    </tr>\n",
              "    <tr>\n",
              "      <th>3</th>\n",
              "      <td>Appello I saw this on the BBC and thought you ...</td>\n",
              "      <td></td>\n",
              "    </tr>\n",
              "    <tr>\n",
              "      <th>4</th>\n",
              "      <td>Still waiting for a witness to state unequivoc...</td>\n",
              "      <td></td>\n",
              "    </tr>\n",
              "    <tr>\n",
              "      <th>...</th>\n",
              "      <td>...</td>\n",
              "      <td>...</td>\n",
              "    </tr>\n",
              "    <tr>\n",
              "      <th>568</th>\n",
              "      <td>https://www.reuters.com/article/us-yemen-secur...</td>\n",
              "      <td></td>\n",
              "    </tr>\n",
              "    <tr>\n",
              "      <th>569</th>\n",
              "      <td>https://www.reuters.com/article/us-spain-polit...</td>\n",
              "      <td></td>\n",
              "    </tr>\n",
              "    <tr>\n",
              "      <th>570</th>\n",
              "      <td>https://www.reuters.com/article/us-yemen-secur...</td>\n",
              "      <td></td>\n",
              "    </tr>\n",
              "    <tr>\n",
              "      <th>571</th>\n",
              "      <td>https://www.reuters.com/article/us-ethiopia-po...</td>\n",
              "      <td></td>\n",
              "    </tr>\n",
              "    <tr>\n",
              "      <th>572</th>\n",
              "      <td>https://www.reuters.com/article/us-slovakia-po...</td>\n",
              "      <td></td>\n",
              "    </tr>\n",
              "  </tbody>\n",
              "</table>\n",
              "<p>572 rows × 2 columns</p>\n",
              "</div>"
            ],
            "text/plain": [
              "                                                  data rating\n",
              "0    How will an early election stop us crashing ou...       \n",
              "1    People voted just a year and a half ago, there...       \n",
              "2    Elezioni anticipate I saw this on the BBC and ...       \n",
              "3    Appello I saw this on the BBC and thought you ...       \n",
              "4    Still waiting for a witness to state unequivoc...       \n",
              "..                                                 ...    ...\n",
              "568  https://www.reuters.com/article/us-yemen-secur...       \n",
              "569  https://www.reuters.com/article/us-spain-polit...       \n",
              "570  https://www.reuters.com/article/us-yemen-secur...       \n",
              "571  https://www.reuters.com/article/us-ethiopia-po...       \n",
              "572  https://www.reuters.com/article/us-slovakia-po...       \n",
              "\n",
              "[572 rows x 2 columns]"
            ]
          },
          "metadata": {
            "tags": []
          },
          "execution_count": 131
        }
      ]
    },
    {
      "cell_type": "code",
      "metadata": {
        "id": "D1N0pm0HD7OE",
        "colab_type": "code",
        "colab": {}
      },
      "source": [
        "output_file_name_2 = \"Italy-Collection-2019-11-28-v4.csv\"\n",
        "output_file_path_2 = os.path.join(input_directory, \"it-it\", output_file_name_2)"
      ],
      "execution_count": 0,
      "outputs": []
    },
    {
      "cell_type": "code",
      "metadata": {
        "id": "bJNyI_iXEH7l",
        "colab_type": "code",
        "outputId": "3374bd54-6219-432d-e013-9b32581fbc5d",
        "colab": {
          "base_uri": "https://localhost:8080/",
          "height": 207
        }
      },
      "source": [
        "targeted_df_2 = input_df_2[input_df_2.data.str.contains(\"|\".join(\n",
        "    inclusion_keywords))]\n",
        "\n",
        "targeted_df_2"
      ],
      "execution_count": 0,
      "outputs": [
        {
          "output_type": "stream",
          "text": [
            "/usr/local/lib/python3.6/dist-packages/pandas/core/strings.py:1843: UserWarning: This pattern has match groups. To actually get the groups, use str.extract.\n",
            "  return func(self, *args, **kwargs)\n"
          ],
          "name": "stderr"
        },
        {
          "output_type": "execute_result",
          "data": {
            "text/html": [
              "<div>\n",
              "<style scoped>\n",
              "    .dataframe tbody tr th:only-of-type {\n",
              "        vertical-align: middle;\n",
              "    }\n",
              "\n",
              "    .dataframe tbody tr th {\n",
              "        vertical-align: top;\n",
              "    }\n",
              "\n",
              "    .dataframe thead th {\n",
              "        text-align: right;\n",
              "    }\n",
              "</style>\n",
              "<table border=\"1\" class=\"dataframe\">\n",
              "  <thead>\n",
              "    <tr style=\"text-align: right;\">\n",
              "      <th></th>\n",
              "      <th>data</th>\n",
              "      <th>rating</th>\n",
              "    </tr>\n",
              "  </thead>\n",
              "  <tbody>\n",
              "    <tr>\n",
              "      <th>471</th>\n",
              "      <td>https://www.reuters.com/article/us-italy-polit...</td>\n",
              "      <td></td>\n",
              "    </tr>\n",
              "    <tr>\n",
              "      <th>476</th>\n",
              "      <td>https://www.reuters.com/article/us-internet-ta...</td>\n",
              "      <td></td>\n",
              "    </tr>\n",
              "    <tr>\n",
              "      <th>502</th>\n",
              "      <td>https://www.reuters.com/article/us-italy-polit...</td>\n",
              "      <td></td>\n",
              "    </tr>\n",
              "    <tr>\n",
              "      <th>532</th>\n",
              "      <td>https://www.reuters.com/article/us-italy-defen...</td>\n",
              "      <td></td>\n",
              "    </tr>\n",
              "  </tbody>\n",
              "</table>\n",
              "</div>"
            ],
            "text/plain": [
              "                                                  data rating\n",
              "471  https://www.reuters.com/article/us-italy-polit...       \n",
              "476  https://www.reuters.com/article/us-internet-ta...       \n",
              "502  https://www.reuters.com/article/us-italy-polit...       \n",
              "532  https://www.reuters.com/article/us-italy-defen...       "
            ]
          },
          "metadata": {
            "tags": []
          },
          "execution_count": 132
        }
      ]
    },
    {
      "cell_type": "code",
      "metadata": {
        "id": "QClRhOPVFKpU",
        "colab_type": "code",
        "colab": {}
      },
      "source": [
        "# prefix_eq_df = targeted_df_2[targeted_df_2.data.str.contains(\"^=\")]\n",
        "# if prefix_eq_df.shape[0] > 0:\n",
        "#     targeted_df_2 = prefix_eq_df.data.apply(str_prefix_cleanup)\n",
        "\n",
        "if targeted_df_2.shape[0] < input_file.shape[0] and targeted_df_2.shape[0] > 0:\n",
        "    targeted_df_2.to_csv(output_file_path_2, index=False)\n",
        "else:\n",
        "    print(\"Target DataFrame seems incorrect. Please check DataFrames again.\")"
      ],
      "execution_count": 0,
      "outputs": []
    }
  ]
}