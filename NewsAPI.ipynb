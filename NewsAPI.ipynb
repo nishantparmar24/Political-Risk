{
  "nbformat": 4,
  "nbformat_minor": 0,
  "metadata": {
    "colab": {
      "name": "NewsAPI.ipynb",
      "provenance": [],
      "collapsed_sections": [],
      "include_colab_link": true
    },
    "kernelspec": {
      "name": "python3",
      "display_name": "Python 3"
    },
    "accelerator": "GPU"
  },
  "cells": [
    {
      "cell_type": "markdown",
      "metadata": {
        "id": "view-in-github",
        "colab_type": "text"
      },
      "source": [
        "<a href=\"https://colab.research.google.com/github/nishantparmar24/Political-Risk/blob/master/NewsAPI.ipynb\" target=\"_parent\"><img src=\"https://colab.research.google.com/assets/colab-badge.svg\" alt=\"Open In Colab\"/></a>"
      ]
    },
    {
      "cell_type": "code",
      "metadata": {
        "id": "oBnb2JjThhY9",
        "colab_type": "code",
        "outputId": "dbb69b4c-9a77-4b45-e4d0-63e8ddc18db5",
        "colab": {
          "base_uri": "https://localhost:8080/",
          "height": 275
        }
      },
      "source": [
        "!pip install newsapi-python"
      ],
      "execution_count": 0,
      "outputs": [
        {
          "output_type": "stream",
          "text": [
            "Collecting newsapi-python\n",
            "  Downloading https://files.pythonhosted.org/packages/4a/49/cbb39846c53076a1cde2c73c5dbc3d39956ea7586c8dfc35d516d706a497/newsapi-python-0.2.5.tar.gz\n",
            "Requirement already satisfied: requests==2.21.0 in /usr/local/lib/python3.6/dist-packages (from newsapi-python) (2.21.0)\n",
            "Requirement already satisfied: urllib3<1.25,>=1.21.1 in /usr/local/lib/python3.6/dist-packages (from requests==2.21.0->newsapi-python) (1.24.3)\n",
            "Requirement already satisfied: chardet<3.1.0,>=3.0.2 in /usr/local/lib/python3.6/dist-packages (from requests==2.21.0->newsapi-python) (3.0.4)\n",
            "Requirement already satisfied: certifi>=2017.4.17 in /usr/local/lib/python3.6/dist-packages (from requests==2.21.0->newsapi-python) (2019.9.11)\n",
            "Requirement already satisfied: idna<2.9,>=2.5 in /usr/local/lib/python3.6/dist-packages (from requests==2.21.0->newsapi-python) (2.8)\n",
            "Building wheels for collected packages: newsapi-python\n",
            "  Building wheel for newsapi-python (setup.py) ... \u001b[?25l\u001b[?25hdone\n",
            "  Created wheel for newsapi-python: filename=newsapi_python-0.2.5-py2.py3-none-any.whl size=6593 sha256=ec4539e425076d4a7170384dece99755c4e9bcd0c4683159c06d0184a335ce2d\n",
            "  Stored in directory: /root/.cache/pip/wheels/d8/dc/5e/857ef20410a023cfe728ac6f360958df44b199b459cbc6ccbc\n",
            "Successfully built newsapi-python\n",
            "Installing collected packages: newsapi-python\n",
            "Successfully installed newsapi-python-0.2.5\n"
          ],
          "name": "stdout"
        }
      ]
    },
    {
      "cell_type": "code",
      "metadata": {
        "id": "Ap636AuHoEAY",
        "colab_type": "code",
        "colab": {}
      },
      "source": [
        "from datetime import datetime as dt\n",
        "from google.colab import drive\n",
        "from newsapi import NewsApiClient\n",
        "from urllib.parse import quote\n",
        "import json\n",
        "import os\n",
        "import pandas as pd\n",
        "import re\n",
        "import requests"
      ],
      "execution_count": 0,
      "outputs": []
    },
    {
      "cell_type": "code",
      "metadata": {
        "id": "ZEJAyklVqHvk",
        "colab_type": "code",
        "outputId": "4b575aaf-ae90-4ff1-bbc2-a28c665bb5b4",
        "colab": {
          "base_uri": "https://localhost:8080/",
          "height": 122
        }
      },
      "source": [
        "drive.mount('/gdrive/', force_remount=True)"
      ],
      "execution_count": 0,
      "outputs": [
        {
          "output_type": "stream",
          "text": [
            "Go to this URL in a browser: https://accounts.google.com/o/oauth2/auth?client_id=947318989803-6bn6qk8qdgf4n4g3pfee6491hc0brc4i.apps.googleusercontent.com&redirect_uri=urn%3Aietf%3Awg%3Aoauth%3A2.0%3Aoob&scope=email%20https%3A%2F%2Fwww.googleapis.com%2Fauth%2Fdocs.test%20https%3A%2F%2Fwww.googleapis.com%2Fauth%2Fdrive%20https%3A%2F%2Fwww.googleapis.com%2Fauth%2Fdrive.photos.readonly%20https%3A%2F%2Fwww.googleapis.com%2Fauth%2Fpeopleapi.readonly&response_type=code\n",
            "\n",
            "Enter your authorization code:\n",
            "··········\n",
            "Mounted at /gdrive/\n"
          ],
          "name": "stdout"
        }
      ]
    },
    {
      "cell_type": "code",
      "metadata": {
        "id": "SZlMqfpiKSOx",
        "colab_type": "code",
        "colab": {}
      },
      "source": [
        "output_directory = '/gdrive/My Drive/Political Risk Project/Test Data/News Results/'\n",
        "API_usage_file = os.path.join(output_directory, 'api_usage.json')"
      ],
      "execution_count": 0,
      "outputs": []
    },
    {
      "cell_type": "code",
      "metadata": {
        "id": "EFE71-eLTNp1",
        "colab_type": "code",
        "colab": {}
      },
      "source": [
        "def get_api_usage(date):\n",
        "    if os.path.lexists(API_usage_file):\n",
        "        api_usage = pd.read_json(API_usage_file, orient='records')\n",
        "        if date in api_usage.columns:\n",
        "            return api_usage, api_usage[date].squeeze()\n",
        "        else:\n",
        "            update_api_count(date)\n",
        "            return api_usage, 1\n",
        "    return None, None"
      ],
      "execution_count": 0,
      "outputs": []
    },
    {
      "cell_type": "code",
      "metadata": {
        "id": "yCQXFx1tFlx6",
        "colab_type": "code",
        "colab": {}
      },
      "source": [
        "def update_api_count(date):\n",
        "    api_usage, count = get_api_usage(date)\n",
        "    if not api_usage.empty:\n",
        "        updated_count = 0\n",
        "        if date in api_usage.columns:\n",
        "            api_usage[date] += 1\n",
        "            updated_count = api_usage[date].squeeze()\n",
        "        else:\n",
        "            api_usage = 0\n",
        "        api_usage.to_json(API_usage_file, orient='records', date_format='iso')\n",
        "        sleep(3)\n",
        "        _, new_count = get_api_usage(date)\n",
        "        print(\"Updating new API usage...\")\n",
        "        # print(new_count)\n",
        "        if new_count != updated_count:\n",
        "            print(\"...\")\n",
        "            drive.mount(\"/gdrive\", force_remount=True)\n",
        "        _, new_count = get_api_usage(date)\n",
        "        print(\"API usage count updated! Current usage: {}\".format(new_count))\n"
      ],
      "execution_count": 0,
      "outputs": []
    },
    {
      "cell_type": "code",
      "metadata": {
        "id": "F-Y1UObuTz--",
        "colab_type": "code",
        "colab": {}
      },
      "source": [
        "format_date_str = lambda s: \"0{}\".format(s) if int(s) < 10 else \"{}\".format(s)\n",
        "today = lambda: \"{}-{}-{}\".format(dt.now().year, \n",
        "                                  format_date_str(dt.now().month), \n",
        "                                  format_date_str(dt.now().day))\n",
        "today_hm = lambda: \"{}_{}-{}\".format(today(),\n",
        "                                     format_date_str(dt.now().hour),\n",
        "                                     format_date_str(dt.now().minute))"
      ],
      "execution_count": 0,
      "outputs": []
    },
    {
      "cell_type": "code",
      "metadata": {
        "id": "HFlXWec4FV6a",
        "colab_type": "code",
        "outputId": "26e5f70d-08ac-4288-f6cb-085c7d0bab66",
        "colab": {
          "base_uri": "https://localhost:8080/",
          "height": 80
        }
      },
      "source": [
        "r, c = get_api_usage(today())\n",
        "r"
      ],
      "execution_count": 0,
      "outputs": [
        {
          "output_type": "execute_result",
          "data": {
            "text/html": [
              "<div>\n",
              "<style scoped>\n",
              "    .dataframe tbody tr th:only-of-type {\n",
              "        vertical-align: middle;\n",
              "    }\n",
              "\n",
              "    .dataframe tbody tr th {\n",
              "        vertical-align: top;\n",
              "    }\n",
              "\n",
              "    .dataframe thead th {\n",
              "        text-align: right;\n",
              "    }\n",
              "</style>\n",
              "<table border=\"1\" class=\"dataframe\">\n",
              "  <thead>\n",
              "    <tr style=\"text-align: right;\">\n",
              "      <th></th>\n",
              "      <th>2019-09-30T00:00:00.000Z</th>\n",
              "      <th>2019-10-01T00:00:00.000Z</th>\n",
              "      <th>2019-10-18</th>\n",
              "      <th>2019-10-24</th>\n",
              "    </tr>\n",
              "  </thead>\n",
              "  <tbody>\n",
              "    <tr>\n",
              "      <th>0</th>\n",
              "      <td>6</td>\n",
              "      <td>10</td>\n",
              "      <td>1</td>\n",
              "      <td>12</td>\n",
              "    </tr>\n",
              "  </tbody>\n",
              "</table>\n",
              "</div>"
            ],
            "text/plain": [
              "   2019-09-30T00:00:00.000Z  2019-10-01T00:00:00.000Z  2019-10-18  2019-10-24\n",
              "0                         6                        10           1          12"
            ]
          },
          "metadata": {
            "tags": []
          },
          "execution_count": 55
        }
      ]
    },
    {
      "cell_type": "code",
      "metadata": {
        "id": "_r1A8VYZE4Md",
        "colab_type": "code",
        "colab": {}
      },
      "source": [
        "def save_article(article_text, filename):\n",
        "    out_file = os.path.join(output_directory, filename)\n",
        "    with open(out_file, \"w\") as output:\n",
        "        output.write(article_text)\n",
        "    if os.path.lexists(out_file):\n",
        "        return out_file\n",
        "    return None"
      ],
      "execution_count": 0,
      "outputs": []
    },
    {
      "cell_type": "code",
      "metadata": {
        "id": "3MbY4zzzVaup",
        "colab_type": "code",
        "colab": {}
      },
      "source": [
        "def get_api_key():\n",
        "    src_ = \"/gdrive/My Drive/Political Risk Project/NewsAPIKey/\"\n",
        "    with open(os.path.join(src_, \"news_api_key.json\")) as key:\n",
        "        obj = json.load(key)\n",
        "        return obj[\"api_key\"]"
      ],
      "execution_count": 0,
      "outputs": []
    },
    {
      "cell_type": "code",
      "metadata": {
        "id": "upfbFnN9VBN3",
        "colab_type": "code",
        "colab": {}
      },
      "source": [
        "newsapi = NewsApiClient(api_key=get_api_key())"
      ],
      "execution_count": 0,
      "outputs": []
    },
    {
      "cell_type": "code",
      "metadata": {
        "id": "eKCC_hOMoCFB",
        "colab_type": "code",
        "outputId": "b5e1c9ff-e2fd-48f9-bb04-75806aab4678",
        "colab": {
          "base_uri": "https://localhost:8080/",
          "height": 136
        }
      },
      "source": [
        "sources = \",\".join([\"reuters\", \"ansa\", \"google-news-it\"])\n",
        "print(sources)\n",
        "queries = [\"early election\", \"snap election\", \"government collapse\", \n",
        "           \"government coalition\", \"election\", \"instability\", \"uncertainty\",\n",
        "           \"crisis\", \"coalition\"]\n",
        "country = \"it\"\n",
        "page_size = 100\n",
        "endpoint = \"everything\" # \"top-headlines\""
      ],
      "execution_count": 0,
      "outputs": [
        {
          "output_type": "stream",
          "text": [
            "reuters,ansa,google-news-it\n"
          ],
          "name": "stdout"
        },
        {
          "output_type": "stream",
          "text": [
            "/usr/local/lib/python3.6/dist-packages/ipykernel_launcher.py:34: UserWarning: This pattern has match groups. To actually get the groups, use str.extract.\n"
          ],
          "name": "stderr"
        },
        {
          "output_type": "stream",
          "text": [
            "API usage count updated! Current usage: 10\n"
          ],
          "name": "stdout"
        },
        {
          "output_type": "stream",
          "text": [
            "/usr/local/lib/python3.6/dist-packages/ipykernel_launcher.py:34: UserWarning: This pattern has match groups. To actually get the groups, use str.extract.\n"
          ],
          "name": "stderr"
        },
        {
          "output_type": "stream",
          "text": [
            "API usage count updated! Current usage: 11\n",
            "API usage count updated! Current usage: 12\n"
          ],
          "name": "stdout"
        },
        {
          "output_type": "stream",
          "text": [
            "/usr/local/lib/python3.6/dist-packages/ipykernel_launcher.py:34: UserWarning: This pattern has match groups. To actually get the groups, use str.extract.\n"
          ],
          "name": "stderr"
        }
      ]
    },
    {
      "cell_type": "code",
      "metadata": {
        "id": "3fNicmiiJyLv",
        "colab_type": "code",
        "colab": {}
      },
      "source": [
        "def fetch_news(queries, sources, page_size=100, **kwargs):\n",
        "    top_headlines_map = dict()\n",
        "    # saved_files = list()\n",
        "    news_collection = pd.DataFrame()\n",
        "    for query in queries:\n",
        "        headlines = newsapi.get_everything(q=query,\n",
        "                                           sources=sources,\n",
        "                                           sort_by='relevancy',\n",
        "                                           page_size=page_size)\n",
        "        if headlines[\"totalResults\"] > 0:\n",
        "            # response_text = json.loads(headlines.text)\n",
        "            all_articles = headlines[\"articles\"]\n",
        "            collection = list()\n",
        "            for article in all_articles:\n",
        "                data_ = dict()\n",
        "                source = article.pop(\"source\")\n",
        "                content = article.pop(\"content\")\n",
        "                source = {\"source\": source[\"id\"]}\n",
        "                article.update(source)\n",
        "                collection.append(article)\n",
        "            data_df = pd.DataFrame(data=collection)\n",
        "            if not data_df.empty:\n",
        "                match_str = '({})'.format(query)\n",
        "                reqd_df = data_df[data_df['description'].str.contains(\n",
        "                    match_str)]\n",
        "                if news_collection.empty:\n",
        "                    news_collection = reqd_df\n",
        "                else:\n",
        "                    news_collection = news_collection.append(reqd_df)\n",
        "                # responses_file = \"{}_on_{}.csv\".format(endpoint,\n",
        "                #                                       query.replace(\" \", \"_\"))\n",
        "                # top_headlines_map[query] = reqd_df\n",
        "            \n",
        "                # out_file = os.path.join(output_directory, responses_file)\n",
        "                # data_df.to_csv(out_file, index=False)\n",
        "            update_api_count(today())\n",
        "    return news_collection\n"
      ],
      "execution_count": 0,
      "outputs": []
    },
    {
      "cell_type": "code",
      "metadata": {
        "id": "cJT9k0UWJ2Mf",
        "colab_type": "code",
        "colab": {}
      },
      "source": [
        "news_collection = fetch_news(queries, sources)\n",
        "# news_collection.to_csv(os.path.join(output_directory, 'all_results_new.csv'), \n",
        "#                        index=False)"
      ],
      "execution_count": 0,
      "outputs": []
    },
    {
      "cell_type": "code",
      "metadata": {
        "id": "RW2eaA1SiDQi",
        "colab_type": "code",
        "colab": {}
      },
      "source": [
        "news_collection = news_collection.reset_index().drop(columns=['index'])"
      ],
      "execution_count": 0,
      "outputs": []
    },
    {
      "cell_type": "code",
      "metadata": {
        "id": "lU0Tq20kKnVj",
        "colab_type": "code",
        "colab": {}
      },
      "source": [
        "enpoint_uri = \"http://ac6a2064dee3c11e99ced0a13821e56d-733867741.ap-southeast-1.elb.amazonaws.com/sentiment/classifier\"\n",
        "headers = {\"content-type\": \"application/json\"}"
      ],
      "execution_count": 0,
      "outputs": []
    },
    {
      "cell_type": "code",
      "metadata": {
        "id": "Dzdv_gsHKotY",
        "colab_type": "code",
        "colab": {}
      },
      "source": [
        "def get_polarity(sentence):\n",
        "    data = json.dumps({\"polarity\": sentence})\n",
        "    response = requests.post(enpoint_uri, data=data, headers=headers)\n",
        "    return response.json() if response.status_code == 200 else \"\""
      ],
      "execution_count": 0,
      "outputs": []
    },
    {
      "cell_type": "code",
      "metadata": {
        "id": "esUUvhTqKsE4",
        "colab_type": "code",
        "outputId": "ad935890-6d15-4c9a-df4a-093d104dccb3",
        "colab": {
          "base_uri": "https://localhost:8080/",
          "height": 374
        }
      },
      "source": [
        "news_collection[\"polarity_v1\"] = news_collection[\"title\"].apply(get_polarity)\n",
        "news_collection"
      ],
      "execution_count": 0,
      "outputs": [
        {
          "output_type": "execute_result",
          "data": {
            "text/html": [
              "<div>\n",
              "<style scoped>\n",
              "    .dataframe tbody tr th:only-of-type {\n",
              "        vertical-align: middle;\n",
              "    }\n",
              "\n",
              "    .dataframe tbody tr th {\n",
              "        vertical-align: top;\n",
              "    }\n",
              "\n",
              "    .dataframe thead th {\n",
              "        text-align: right;\n",
              "    }\n",
              "</style>\n",
              "<table border=\"1\" class=\"dataframe\">\n",
              "  <thead>\n",
              "    <tr style=\"text-align: right;\">\n",
              "      <th></th>\n",
              "      <th>author</th>\n",
              "      <th>description</th>\n",
              "      <th>publishedAt</th>\n",
              "      <th>source</th>\n",
              "      <th>title</th>\n",
              "      <th>url</th>\n",
              "      <th>urlToImage</th>\n",
              "      <th>polarity_v1</th>\n",
              "    </tr>\n",
              "  </thead>\n",
              "  <tbody>\n",
              "    <tr>\n",
              "      <th>0</th>\n",
              "      <td>Reuters Editorial</td>\n",
              "      <td>Britain's Labour Party will only back an early...</td>\n",
              "      <td>2019-10-22T14:00:52Z</td>\n",
              "      <td>reuters</td>\n",
              "      <td>UK's Labour wants Brexit extension before it w...</td>\n",
              "      <td>https://www.reuters.com/article/us-britain-eu-...</td>\n",
              "      <td>https://s3.reutersmedia.net/resources/r/?m=02&amp;...</td>\n",
              "      <td>negative</td>\n",
              "    </tr>\n",
              "    <tr>\n",
              "      <th>1</th>\n",
              "      <td>Marco Aquino</td>\n",
              "      <td>Peruvian opposition lawmakers shelved a snap e...</td>\n",
              "      <td>2019-09-26T20:34:16Z</td>\n",
              "      <td>reuters</td>\n",
              "      <td>Peruvian Congress shelves Vizcarra's proposal ...</td>\n",
              "      <td>https://www.reuters.com/article/us-peru-politi...</td>\n",
              "      <td>https://s3.reutersmedia.net/resources/r/?m=02&amp;...</td>\n",
              "      <td>negative</td>\n",
              "    </tr>\n",
              "    <tr>\n",
              "      <th>2</th>\n",
              "      <td>Padraic Halpin</td>\n",
              "      <td>Supporters of Irish Prime Minister Leo Varadka...</td>\n",
              "      <td>2019-10-18T15:50:33Z</td>\n",
              "      <td>reuters</td>\n",
              "      <td>Irish PM's party primed for snap election if B...</td>\n",
              "      <td>https://www.reuters.com/article/us-ireland-pol...</td>\n",
              "      <td>https://s4.reutersmedia.net/resources/r/?m=02&amp;...</td>\n",
              "      <td>positive</td>\n",
              "    </tr>\n",
              "    <tr>\n",
              "      <th>3</th>\n",
              "      <td>Reuters Editorial</td>\n",
              "      <td>Iraqi populist cleric Moqtada al-Sadr calls on...</td>\n",
              "      <td>2019-10-04T19:38:48Z</td>\n",
              "      <td>reuters</td>\n",
              "      <td>Iraqi populist cleric Moqtada al-Sadr calls fo...</td>\n",
              "      <td>https://www.reuters.com/article/us-iraq-protes...</td>\n",
              "      <td>https://s4.reutersmedia.net/resources_v2/image...</td>\n",
              "      <td>negative</td>\n",
              "    </tr>\n",
              "    <tr>\n",
              "      <th>4</th>\n",
              "      <td>Fatos Bytyci</td>\n",
              "      <td>Voters in Kosovo will pick a new parliament on...</td>\n",
              "      <td>2019-10-01T16:00:54Z</td>\n",
              "      <td>reuters</td>\n",
              "      <td>Kosovo to elect new parliament amid anger over...</td>\n",
              "      <td>https://www.reuters.com/article/us-kosovo-elec...</td>\n",
              "      <td>https://s4.reutersmedia.net/resources_v2/image...</td>\n",
              "      <td>negative</td>\n",
              "    </tr>\n",
              "  </tbody>\n",
              "</table>\n",
              "</div>"
            ],
            "text/plain": [
              "              author  ... polarity_v1\n",
              "0  Reuters Editorial  ...    negative\n",
              "1       Marco Aquino  ...    negative\n",
              "2     Padraic Halpin  ...    positive\n",
              "3  Reuters Editorial  ...    negative\n",
              "4       Fatos Bytyci  ...    negative\n",
              "\n",
              "[5 rows x 8 columns]"
            ]
          },
          "metadata": {
            "tags": []
          },
          "execution_count": 53
        }
      ]
    },
    {
      "cell_type": "code",
      "metadata": {
        "id": "Y4RtcNc7PZTW",
        "colab_type": "code",
        "colab": {}
      },
      "source": [
        "def save_output(news_collection, \n",
        "                curr_datetime):\n",
        "    file_name = 'newsheadlines_predictions_{}.csv'.format(curr_datetime)\n",
        "    news_collection.to_csv(os.path.join(output_directory, file_name),\n",
        "                           index=False)"
      ],
      "execution_count": 0,
      "outputs": []
    },
    {
      "cell_type": "code",
      "metadata": {
        "id": "VH08SyMpQSCe",
        "colab_type": "code",
        "colab": {}
      },
      "source": [
        "save_output(news_collection, today_hm())"
      ],
      "execution_count": 0,
      "outputs": []
    },
    {
      "cell_type": "code",
      "metadata": {
        "id": "_BrUBF9SVjuM",
        "colab_type": "code",
        "colab": {}
      },
      "source": [
        "# def update_api_count(date, count_data, count):\n",
        "#     if not count_data.empty:\n",
        "#         if date in count_data.columns:\n",
        "#             count_data[date] = count\n",
        "#             count_data.to_json(API_usage_file, \n",
        "#                                orient='records',\n",
        "#                                date_format='iso')\n",
        "#             r, c = get_api_usage(date)\n",
        "#             while c != count:\n",
        "#                 print(\"Updating count...\")\n",
        "#             print(\"Count updated!\")\n",
        "#         else:\n",
        "#             print(\"Date not in usage file!\\nCreating an entry\")\n",
        "#             count_data[date] = 1\n",
        "#             count_data.to_json(API_usage_file, \n",
        "#                                orient='records', \n",
        "#                                date_format='iso')"
      ],
      "execution_count": 0,
      "outputs": []
    }
  ]
}